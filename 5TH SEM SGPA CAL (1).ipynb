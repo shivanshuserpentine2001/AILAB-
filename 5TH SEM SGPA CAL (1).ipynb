{
 "cells": [
  {
   "cell_type": "markdown",
   "id": "3d8fc69b",
   "metadata": {},
   "source": [
    "# 5th SEM SGPA CALCULATOR\n"
   ]
  },
  {
   "cell_type": "code",
   "execution_count": null,
   "id": "4a9a8601",
   "metadata": {},
   "outputs": [],
   "source": []
  },
  {
   "cell_type": "code",
   "execution_count": 1,
   "id": "02a496aa",
   "metadata": {},
   "outputs": [],
   "source": [
    "def gp(x):\n",
    "    if x =='S':\n",
    "        return 10\n",
    "        return\n",
    "    elif x=='A':\n",
    "        return 9\n",
    "        return\n",
    "    elif x == 'B':\n",
    "        return 8\n",
    "        return\n",
    "    elif x == 'C':\n",
    "        return 7\n",
    "        return\n",
    "    elif x == 'D':\n",
    "        return 6\n",
    "        return\n",
    "    elif x == 'E':\n",
    "        return 4\n",
    "        return\n",
    "    else:\n",
    "        return 0\n",
    "\n"
   ]
  },
  {
   "cell_type": "code",
   "execution_count": 2,
   "id": "83a308b3",
   "metadata": {},
   "outputs": [
    {
     "name": "stdout",
     "output_type": "stream",
     "text": [
      "ENTER ARTIFICIAL INTELLEGENCE GP GRADE:A\n",
      "9\n"
     ]
    }
   ],
   "source": [
    "aimarks=input(\"ENTER ARTIFICIAL INTELLEGENCE GP GRADE:\")\n",
    "aigp=gp(aimarks)\n",
    "print(aigp)"
   ]
  },
  {
   "cell_type": "code",
   "execution_count": 3,
   "id": "d54bf0b7",
   "metadata": {},
   "outputs": [
    {
     "name": "stdout",
     "output_type": "stream",
     "text": [
      "ENTER ADVANCED ALGO GRADE:A\n",
      "9\n"
     ]
    }
   ],
   "source": [
    "aamarks=input(\"ENTER ADVANCED ALGO GRADE:\")\n",
    "aagp=gp(aamarks)\n",
    "print(aagp)"
   ]
  },
  {
   "cell_type": "code",
   "execution_count": 4,
   "id": "c70e517a",
   "metadata": {},
   "outputs": [
    {
     "name": "stdout",
     "output_type": "stream",
     "text": [
      "ENTER UNIX SHELL PPROGRAMMING GRADE:A\n",
      "9\n"
     ]
    }
   ],
   "source": [
    "uspmarks=input(\"ENTER UNIX SHELL PPROGRAMMING GRADE:\")\n",
    "uspgp=gp(uspmarks)\n",
    "print(uspgp)"
   ]
  },
  {
   "cell_type": "code",
   "execution_count": 5,
   "id": "da29dc1b",
   "metadata": {},
   "outputs": [
    {
     "name": "stdout",
     "output_type": "stream",
     "text": [
      "ENTER SOFTWARE ENNGINEERING GRADE:A\n",
      "9\n"
     ]
    }
   ],
   "source": [
    "semarks=input(\"ENTER SOFTWARE ENNGINEERING GRADE:\")\n",
    "segp=gp(semarks)\n",
    "print(segp)\n"
   ]
  },
  {
   "cell_type": "code",
   "execution_count": 6,
   "id": "89df1def",
   "metadata": {},
   "outputs": [
    {
     "name": "stdout",
     "output_type": "stream",
     "text": [
      "ENTER SPMF GRADE:A\n",
      "9\n"
     ]
    }
   ],
   "source": [
    "spmfmarks=input(\"ENTER SPMF GRADE:\")\n",
    "spmfgp=gp(spmfmarks)\n",
    "print(spmfgp)"
   ]
  },
  {
   "cell_type": "code",
   "execution_count": 7,
   "id": "b5ca6029",
   "metadata": {},
   "outputs": [
    {
     "name": "stdout",
     "output_type": "stream",
     "text": [
      "ENTER ADVANCED DATA STRUCTURE/INTERNET OF THINGS GRADE:S\n",
      "10\n"
     ]
    }
   ],
   "source": [
    "adsmarks=input(\"ENTER ADVANCED DATA STRUCTURE/INTERNET OF THINGS GRADE:\")\n",
    "adsgp=gp(adsmarks)\n",
    "print(adsgp)"
   ]
  },
  {
   "cell_type": "code",
   "execution_count": 8,
   "id": "36f3faa0",
   "metadata": {},
   "outputs": [
    {
     "name": "stdout",
     "output_type": "stream",
     "text": [
      "ENTER COMPUTER NETWORK GRADE:B\n",
      "8\n"
     ]
    }
   ],
   "source": [
    "cnmarks=input(\"ENTER COMPUTER NETWORK GRADE:\")\n",
    "cngp=gp(cnmarks)\n",
    "print(cngp)"
   ]
  },
  {
   "cell_type": "code",
   "execution_count": 9,
   "id": "efa9c2ae",
   "metadata": {},
   "outputs": [
    {
     "name": "stdout",
     "output_type": "stream",
     "text": [
      "ENTER PROJECT WORK-3 GRADE:A\n",
      "9\n"
     ]
    }
   ],
   "source": [
    "pwmarks=input(\"ENTER PROJECT WORK-3 GRADE:\")\n",
    "pwgp=gp(pwmarks)\n",
    "print(pwgp)"
   ]
  },
  {
   "cell_type": "code",
   "execution_count": 10,
   "id": "4a1b9268",
   "metadata": {},
   "outputs": [
    {
     "name": "stdout",
     "output_type": "stream",
     "text": [
      "CONGRATULATIONS ON GETTING:8.96\n"
     ]
    }
   ],
   "source": [
    "sgpa=(aigp*4+cngp*4+uspgp*4+segp*3+spmfgp*2+adsgp*3+aagp*3+pwgp*2)/25\n",
    "print(\"CONGRATULATIONS ON GETTING:\"+str(sgpa))"
   ]
  },
  {
   "cell_type": "code",
   "execution_count": 12,
   "id": "6115be88",
   "metadata": {},
   "outputs": [
    {
     "name": "stdout",
     "output_type": "stream",
     "text": [
      "CGPA TILL NOW8.4725\n"
     ]
    }
   ],
   "source": [
    "cgpatillnow=float(input(\"CGPA TILL NOW\"))"
   ]
  },
  {
   "cell_type": "code",
   "execution_count": 14,
   "id": "3179adb0",
   "metadata": {},
   "outputs": [
    {
     "name": "stdout",
     "output_type": "stream",
     "text": [
      "8.577564655172415\n"
     ]
    }
   ],
   "source": [
    "cgpapost5thsem=(cgpatillnow*91+(sgpa*25))/116\n",
    "print(cgpapost5thsem)"
   ]
  },
  {
   "cell_type": "code",
   "execution_count": 15,
   "id": "47a0190e",
   "metadata": {},
   "outputs": [
    {
     "data": {
      "text/plain": [
       "8.58"
      ]
     },
     "execution_count": 15,
     "metadata": {},
     "output_type": "execute_result"
    }
   ],
   "source": [
    "round(cgpapost5thsem,2)"
   ]
  },
  {
   "cell_type": "code",
   "execution_count": null,
   "id": "5065b1e8",
   "metadata": {},
   "outputs": [],
   "source": []
  }
 ],
 "metadata": {
  "kernelspec": {
   "display_name": "Python 3 (ipykernel)",
   "language": "python",
   "name": "python3"
  },
  "language_info": {
   "codemirror_mode": {
    "name": "ipython",
    "version": 3
   },
   "file_extension": ".py",
   "mimetype": "text/x-python",
   "name": "python",
   "nbconvert_exporter": "python",
   "pygments_lexer": "ipython3",
   "version": "3.9.7"
  }
 },
 "nbformat": 4,
 "nbformat_minor": 5
}
